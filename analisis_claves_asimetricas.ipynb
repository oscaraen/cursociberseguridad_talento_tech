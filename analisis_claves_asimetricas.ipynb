{
 "cells": [
  {
   "cell_type": "markdown",
   "source": [
    "## Actividad: Uso de claves asimétricas\n",
    "\n",
    "En esta actividad se comparte un mensaje cifrado por medio de una clave asimétrica. Si bien en este cuaderno se hace la codificación y la decodificación, es necesario que los estudiantes compartan los mensajes y la clave pública para que entiendan la dinámica de funcionamiento del par de claves privada y pública\n",
    "\n",
    "Se recomienda que trabajen en grupos que compartirán los mensajes y las claves públicas\n"
   ],
   "metadata": {
    "collapsed": false
   }
  },
  {
   "cell_type": "code",
   "execution_count": 1,
   "outputs": [],
   "source": [
    "# Importar las bibliotecas necesarias\n",
    "from cryptography.fernet import Fernet\n",
    "from cryptography.hazmat.primitives.asymmetric import rsa, padding\n",
    "from cryptography.hazmat.primitives import serialization, hashes\n"
   ],
   "metadata": {
    "collapsed": false,
    "ExecuteTime": {
     "end_time": "2025-01-20T05:47:41.307224500Z",
     "start_time": "2025-01-20T05:47:41.271986200Z"
    }
   }
  },
  {
   "cell_type": "code",
   "execution_count": 8,
   "outputs": [],
   "source": [
    "# Generar un par de claves (privada y pública)\n",
    "def generar_claves_asimetricas():\n",
    "    \"\"\"Genera y guarda un par de claves asimétricas en archivos.\"\"\"\n",
    "    clave_privada = rsa.generate_private_key(\n",
    "        public_exponent=65537,\n",
    "        key_size=2048\n",
    "    )\n",
    "    clave_publica = clave_privada.public_key()\n",
    "\n",
    "    # Guardar clave privada\n",
    "    with open(\"clave_privada.pem\", \"wb\") as clave_privada_archivo:\n",
    "        clave_privada_archivo.write(\n",
    "            clave_privada.private_bytes(\n",
    "                encoding=serialization.Encoding.PEM,\n",
    "                format=serialization.PrivateFormat.TraditionalOpenSSL,\n",
    "                encryption_algorithm=serialization.NoEncryption()\n",
    "            )\n",
    "        )\n",
    "\n",
    "    # Guardar clave pública\n",
    "    with open(\"clave_publica.pem\", \"wb\") as clave_publica_archivo:\n",
    "        clave_publica_archivo.write(\n",
    "            clave_publica.public_bytes(\n",
    "                encoding=serialization.Encoding.PEM,\n",
    "                format=serialization.PublicFormat.SubjectPublicKeyInfo\n",
    "            )\n",
    "        )\n",
    "\n",
    "    print(\"Claves asimétricas generadas y guardadas en 'clave_privada.pem' y 'clave_publica.pem'.\")\n",
    "\n",
    "# Cargar clave privada\n",
    "def cargar_clave_privada():\n",
    "    \"\"\"Carga la clave privada desde un archivo.\"\"\"\n",
    "    with open(\"clave_privada.pem\", \"rb\") as clave_privada_archivo:\n",
    "        return serialization.load_pem_private_key(\n",
    "            clave_privada_archivo.read(),\n",
    "            password=None\n",
    "        )\n",
    "\n",
    "# Cargar clave pública\n",
    "def cargar_clave_publica():\n",
    "    \"\"\"Carga la clave pública desde un archivo.\"\"\"\n",
    "    with open(\"clave_publica.pem\", \"rb\") as clave_publica_archivo:\n",
    "        return serialization.load_pem_public_key(\n",
    "            clave_publica_archivo.read()\n",
    "        )\n",
    "\n",
    "# Cifrar un mensaje asimétrico\n",
    "def cifrar_mensaje_asimetrico(mensaje, clave_publica):\n",
    "    \"\"\"Cifra un mensaje utilizando la clave pública.\"\"\"\n",
    "    mensaje_cifrado = clave_publica.encrypt(\n",
    "        mensaje.encode(),\n",
    "        padding.OAEP(\n",
    "            mgf=padding.MGF1(algorithm=hashes.SHA256()),\n",
    "            algorithm=hashes.SHA256(),\n",
    "            label=None\n",
    "        )\n",
    "    )\n",
    "    return mensaje_cifrado\n",
    "\n",
    "# Descifrar un mensaje asimétrico\n",
    "def descifrar_mensaje_asimetrico(mensaje_cifrado, clave_privada):\n",
    "    \"\"\"Descifra un mensaje cifrado utilizando la clave privada.\"\"\"\n",
    "    mensaje_descifrado = clave_privada.decrypt(\n",
    "        mensaje_cifrado,\n",
    "        padding.OAEP(\n",
    "            mgf=padding.MGF1(algorithm=hashes.SHA256()),\n",
    "            algorithm=hashes.SHA256(),\n",
    "            label=None\n",
    "        )\n",
    "    )\n",
    "    return mensaje_descifrado.decode()\n",
    "\n",
    "# Validar la autenticidad del remitente\n",
    "def validar_autenticidad(mensaje, firma, clave_publica):\n",
    "    \"\"\"Valida que el mensaje proviene del remitente verificando la firma con la clave pública.\"\"\"\n",
    "    try:\n",
    "        clave_publica.verify(\n",
    "            firma,\n",
    "            mensaje.encode(),\n",
    "            padding.PSS(\n",
    "                mgf=padding.MGF1(hashes.SHA256()),\n",
    "                salt_length=padding.PSS.MAX_LENGTH\n",
    "            ),\n",
    "            hashes.SHA256()\n",
    "        )\n",
    "        return True\n",
    "    except Exception:\n",
    "        return False\n",
    "\n",
    "# Firmar un mensaje\n",
    "def firmar_mensaje(mensaje, clave_privada):\n",
    "    \"\"\"Genera una firma para el mensaje utilizando la clave privada.\"\"\"\n",
    "    firma = clave_privada.sign(\n",
    "        mensaje.encode(),\n",
    "        padding.PSS(\n",
    "            mgf=padding.MGF1(hashes.SHA256()),\n",
    "            salt_length=padding.PSS.MAX_LENGTH\n",
    "        ),\n",
    "        hashes.SHA256()\n",
    "    )\n",
    "    return firma\n"
   ],
   "metadata": {
    "collapsed": false,
    "ExecuteTime": {
     "end_time": "2025-01-20T05:51:48.626191400Z",
     "start_time": "2025-01-20T05:51:48.617658800Z"
    }
   }
  },
  {
   "cell_type": "markdown",
   "source": [
    "mensaje = \"Una máquina simple es un dispositivo mecánico que cambia la dirección o la magnitud de una fuerza\"\n",
    "\n",
    "generar_claves_asimetricas()\n",
    "clave_publica = cargar_clave_publica()\n",
    "clave_privada = cargar_clave_privada()\n",
    "mensaje_cifrado_asimetrico = cifrar_mensaje_asimetrico(mensaje, clave_publica)\n",
    "print(f\"Mensaje cifrado (asimétrico): {mensaje_cifrado_asimetrico}\")\n",
    "mensaje_descifrado_asimetrico = descifrar_mensaje_asimetrico(mensaje_cifrado_asimetrico, clave_privada)\n",
    "print(f\"Mensaje descifrado (asimétrico): {mensaje_descifrado_asimetrico}\")\n"
   ],
   "metadata": {
    "collapsed": false
   }
  },
  {
   "cell_type": "code",
   "execution_count": 13,
   "outputs": [
    {
     "name": "stdout",
     "output_type": "stream",
     "text": [
      "\n",
      "[Validación de Autenticidad]\n",
      "Firma generada: b'%\\xe9\\xad\\xbd7\\xa4\\x0e\\xe7\\xc8B#c9\\xc1\\xca\\xf1c\\x03\\xae\\xf6T\\xd9]\\xbcq\\xfe\\xaf\\xf0#b\\xf6\\x1c\\xd1{z6\\x9b\\xbe\\x9a\\xc9B\\x9c\\xb9\\xa4\\x8eq\\x88\\x1d\\xa07:3\\xc7\\x13:2\\xd6\\xf4\\xef\\xa7r\\x14\\xe7\\xf3\\x87\\x1d\\xad\\xc1Q\\\\\\x0f\\xd3\\xf5\\x8a\\x8aY$\\x90\\x15\\x84\\xfa\\xdb3j\\x8d\\x8e\\xa5\\xd7eq\\x1d\\xff\\x9b\\x13F\\xb64\\x8c\\xd0u\\x0b\\x9eL!\\x85e\\x9e~j^\\xb5\\x9e\\x92\\x0e\\xe9\\xe9\\xb8\\xe0d=\\x82\\x9fN\\t\\x98-\\xfe\\x13\\xd66\\xc3\\x88ZS\\x0f\\xd5v\\xd9\\x0f\\x17|\\xbf\\xf4\\xf1B)\\x02\\x15\\xcdk\\xf9\\x82;nS\\xf8\\xee\\x91\\xb2)W\\x92\\x05*q\\xe7\\x00!&0\\xf6\\x958\\x05\\xd2A\\xe5T=\\x1c\\x80\\xeb\\x92 5\\xaa!\\xce\\xc0\\xfd\\xcf\\x83\\x04\\x8b\\xbb\\x9f\\x97U\\x91\\xac\\x03\\rt*\\x1e\\xd6\\xaa\\t\\x80\\xee\\xb4\\\\\\x11v\\xf7q.!\\xaf\\xd8\\x80n\\x00\\xe7<\\x12\"C\\x81%hx5[\\x9a\\x7f\\xda\\x96Z\\xc5\\x0e\\xa3`\\xdf \\xd0w\\xe34\\xfd\\xcf\\x1d\\x02\\xbe\\x83j'\n",
      "¿El mensaje es auténtico? Sí\n"
     ]
    }
   ],
   "source": [
    "\n",
    "# Parte 3: Validación de Autenticidad firmando con la clave privada\n",
    "print(\"\\n[Validación de Autenticidad]\")\n",
    "firma = firmar_mensaje(mensaje, clave_privada)\n",
    "print(f\"Firma generada: {firma}\")\n",
    "es_valido = validar_autenticidad(mensaje, firma, clave_publica)\n",
    "print(f\"¿El mensaje es auténtico? {'Sí' if es_valido else 'No'}\")\n"
   ],
   "metadata": {
    "collapsed": false,
    "ExecuteTime": {
     "end_time": "2025-01-20T05:54:18.711989900Z",
     "start_time": "2025-01-20T05:54:18.706430600Z"
    }
   }
  },
  {
   "cell_type": "markdown",
   "source": [
    "### Actividad de reflexión\n",
    "Discutir con los estudiantes:\n",
    "- ¿Qué ventajas tiene el cifrado asimétrico?\n",
    "- ¿Qué posibles fallas de seguridad pueden existir?\n",
    "- ¿Qué sucede si yo pierdo mi clave privada? ¿Qué sucede si la comparto?\n",
    "- Intente codificar la fábula de la lechera u otro texto largo ¿Por qué da un error? ¿Cómo se puede arreglar este error para compartir mensajes cifrados?\n",
    "- Comparta mensajes largos cifrados entre los estudiantes y que ellos validen la autencididad del remitente"
   ],
   "metadata": {
    "collapsed": false
   }
  },
  {
   "cell_type": "code",
   "execution_count": null,
   "outputs": [],
   "source": [],
   "metadata": {
    "collapsed": false
   }
  }
 ],
 "metadata": {
  "kernelspec": {
   "display_name": "Python 3",
   "language": "python",
   "name": "python3"
  },
  "language_info": {
   "codemirror_mode": {
    "name": "ipython",
    "version": 2
   },
   "file_extension": ".py",
   "mimetype": "text/x-python",
   "name": "python",
   "nbconvert_exporter": "python",
   "pygments_lexer": "ipython2",
   "version": "2.7.6"
  }
 },
 "nbformat": 4,
 "nbformat_minor": 0
}
